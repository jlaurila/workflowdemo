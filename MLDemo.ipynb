{
 "cells": [
  {
   "cell_type": "markdown",
   "metadata": {},
   "source": [
    "# Machine Learning demonstration"
   ]
  },
  {
   "cell_type": "markdown",
   "metadata": {},
   "source": [
    "Start by importing the required libraries. For machine learning we are using scikit-learn: http://scikit-learn.org/"
   ]
  },
  {
   "cell_type": "code",
   "execution_count": 1,
   "metadata": {
    "collapsed": true
   },
   "outputs": [],
   "source": [
    "from sklearn.preprocessing import LabelEncoder\n",
    "from sklearn import ensemble\n",
    "from sklearn import linear_model\n",
    "from sklearn.model_selection import GridSearchCV\n",
    "from sklearn import preprocessing\n",
    "from sklearn.model_selection import train_test_split\n",
    "from sklearn.model_selection import cross_val_predict\n",
    "import sklearn.metrics as metrics\n",
    "import pickle"
   ]
  },
  {
   "cell_type": "markdown",
   "metadata": {},
   "source": [
    "For data analysis we are using Pandas: http://pandas.pydata.org/"
   ]
  },
  {
   "cell_type": "code",
   "execution_count": 2,
   "metadata": {
    "collapsed": true
   },
   "outputs": [],
   "source": [
    "import numpy as np # numberic processing library\n",
    "import pandas as pd # data analysis library"
   ]
  },
  {
   "cell_type": "markdown",
   "metadata": {},
   "source": [
    "Data is stored in MongoDB (https://www.mongodb.com/) and accessed using pymongo (https://api.mongodb.com/python/current/)"
   ]
  },
  {
   "cell_type": "markdown",
   "metadata": {},
   "source": [
    "For plotting we are using matplotlib: http://matplotlib.org/"
   ]
  },
  {
   "cell_type": "code",
   "execution_count": 3,
   "metadata": {
    "collapsed": true
   },
   "outputs": [],
   "source": [
    "%matplotlib inline\n",
    "import matplotlib.pyplot as plt"
   ]
  },
  {
   "cell_type": "code",
   "execution_count": 23,
   "metadata": {
    "collapsed": false
   },
   "outputs": [
    {
     "data": {
      "text/html": [
       "<div>\n",
       "<table border=\"1\" class=\"dataframe\">\n",
       "  <thead>\n",
       "    <tr style=\"text-align: right;\">\n",
       "      <th></th>\n",
       "      <th>city</th>\n",
       "      <th>area</th>\n",
       "      <th>year</th>\n",
       "      <th>desc</th>\n",
       "      <th>floor</th>\n",
       "      <th>size</th>\n",
       "      <th>price</th>\n",
       "      <th>rooms</th>\n",
       "    </tr>\n",
       "  </thead>\n",
       "  <tbody>\n",
       "    <tr>\n",
       "      <th>0</th>\n",
       "      <td>Espoo</td>\n",
       "      <td>Lintuvaara</td>\n",
       "      <td>1988</td>\n",
       "      <td>1h,kk,s,parveke</td>\n",
       "      <td>3</td>\n",
       "      <td>35.0</td>\n",
       "      <td>137000.0</td>\n",
       "      <td>1</td>\n",
       "    </tr>\n",
       "    <tr>\n",
       "      <th>1</th>\n",
       "      <td>Espoo</td>\n",
       "      <td>Leppävaara</td>\n",
       "      <td>1985</td>\n",
       "      <td>1h,k,m.alkovi,s,p</td>\n",
       "      <td>2</td>\n",
       "      <td>34.5</td>\n",
       "      <td>152000.0</td>\n",
       "      <td>1</td>\n",
       "    </tr>\n",
       "    <tr>\n",
       "      <th>2</th>\n",
       "      <td>Espoo</td>\n",
       "      <td>Puustellinmäki</td>\n",
       "      <td>1994</td>\n",
       "      <td>1h+kk+s</td>\n",
       "      <td>1</td>\n",
       "      <td>39.0</td>\n",
       "      <td>144500.0</td>\n",
       "      <td>1</td>\n",
       "    </tr>\n",
       "    <tr>\n",
       "      <th>3</th>\n",
       "      <td>Espoo</td>\n",
       "      <td>Lähderanta</td>\n",
       "      <td>1962</td>\n",
       "      <td>1h,kk,kh</td>\n",
       "      <td>3</td>\n",
       "      <td>27.0</td>\n",
       "      <td>118000.0</td>\n",
       "      <td>1</td>\n",
       "    </tr>\n",
       "    <tr>\n",
       "      <th>4</th>\n",
       "      <td>Espoo</td>\n",
       "      <td>Lähderanta</td>\n",
       "      <td>1962</td>\n",
       "      <td>1h+kk+kh</td>\n",
       "      <td>2</td>\n",
       "      <td>27.0</td>\n",
       "      <td>105500.0</td>\n",
       "      <td>1</td>\n",
       "    </tr>\n",
       "    <tr>\n",
       "      <th>5</th>\n",
       "      <td>Espoo</td>\n",
       "      <td>Laaksolahti</td>\n",
       "      <td>1967</td>\n",
       "      <td>1h, kk</td>\n",
       "      <td>1</td>\n",
       "      <td>28.0</td>\n",
       "      <td>110000.0</td>\n",
       "      <td>1</td>\n",
       "    </tr>\n",
       "    <tr>\n",
       "      <th>6</th>\n",
       "      <td>Espoo</td>\n",
       "      <td>Ymmersta</td>\n",
       "      <td>2017</td>\n",
       "      <td>1h+kt</td>\n",
       "      <td>2</td>\n",
       "      <td>38.0</td>\n",
       "      <td>164630.0</td>\n",
       "      <td>1</td>\n",
       "    </tr>\n",
       "    <tr>\n",
       "      <th>7</th>\n",
       "      <td>Espoo</td>\n",
       "      <td>Ymmersta</td>\n",
       "      <td>2017</td>\n",
       "      <td>1h+kt</td>\n",
       "      <td>3</td>\n",
       "      <td>38.0</td>\n",
       "      <td>169390.0</td>\n",
       "      <td>1</td>\n",
       "    </tr>\n",
       "    <tr>\n",
       "      <th>8</th>\n",
       "      <td>Espoo</td>\n",
       "      <td>Ymmersta</td>\n",
       "      <td>2017</td>\n",
       "      <td>1h+kt</td>\n",
       "      <td>6</td>\n",
       "      <td>31.0</td>\n",
       "      <td>166080.0</td>\n",
       "      <td>1</td>\n",
       "    </tr>\n",
       "    <tr>\n",
       "      <th>9</th>\n",
       "      <td>Espoo</td>\n",
       "      <td>Ymmersta</td>\n",
       "      <td>2017</td>\n",
       "      <td>1h+kt</td>\n",
       "      <td>5</td>\n",
       "      <td>31.0</td>\n",
       "      <td>159140.0</td>\n",
       "      <td>1</td>\n",
       "    </tr>\n",
       "  </tbody>\n",
       "</table>\n",
       "</div>"
      ],
      "text/plain": [
       "    city            area  year               desc  floor  size     price  \\\n",
       "0  Espoo      Lintuvaara  1988    1h,kk,s,parveke      3  35.0  137000.0   \n",
       "1  Espoo      Leppävaara  1985  1h,k,m.alkovi,s,p      2  34.5  152000.0   \n",
       "2  Espoo  Puustellinmäki  1994            1h+kk+s      1  39.0  144500.0   \n",
       "3  Espoo      Lähderanta  1962           1h,kk,kh      3  27.0  118000.0   \n",
       "4  Espoo      Lähderanta  1962           1h+kk+kh      2  27.0  105500.0   \n",
       "5  Espoo     Laaksolahti  1967             1h, kk      1  28.0  110000.0   \n",
       "6  Espoo        Ymmersta  2017              1h+kt      2  38.0  164630.0   \n",
       "7  Espoo        Ymmersta  2017              1h+kt      3  38.0  169390.0   \n",
       "8  Espoo        Ymmersta  2017              1h+kt      6  31.0  166080.0   \n",
       "9  Espoo        Ymmersta  2017              1h+kt      5  31.0  159140.0   \n",
       "\n",
       "   rooms  \n",
       "0      1  \n",
       "1      1  \n",
       "2      1  \n",
       "3      1  \n",
       "4      1  \n",
       "5      1  \n",
       "6      1  \n",
       "7      1  \n",
       "8      1  \n",
       "9      1  "
      ]
     },
     "execution_count": 23,
     "metadata": {},
     "output_type": "execute_result"
    }
   ],
   "source": [
    "from pymongo import MongoClient # API to MongoDB\n",
    "\n",
    "# read the apartments into Pandas dataframe\n",
    "client = MongoClient()\n",
    "db = client.housing_outliers\n",
    "collection = db.apartments\n",
    "cursor = db.apartments.find({})\n",
    "df =  pd.DataFrame(list(cursor))\n",
    "df[0:10][['city','area','year','desc','floor','size','price','rooms']] # show a subset of data"
   ]
  },
  {
   "cell_type": "markdown",
   "metadata": {},
   "source": [
    "Scikit-learn algorithms operate with numberic data only so lets encode all strings into ints and drop columns that cannot be used from the dataset."
   ]
  },
  {
   "cell_type": "code",
   "execution_count": 24,
   "metadata": {
    "collapsed": false
   },
   "outputs": [
    {
     "data": {
      "text/html": [
       "<div>\n",
       "<table border=\"1\" class=\"dataframe\">\n",
       "  <thead>\n",
       "    <tr style=\"text-align: right;\">\n",
       "      <th></th>\n",
       "      <th>areacode</th>\n",
       "      <th>size</th>\n",
       "      <th>price</th>\n",
       "      <th>year</th>\n",
       "      <th>rooms</th>\n",
       "      <th>elevator</th>\n",
       "      <th>condition</th>\n",
       "      <th>floor</th>\n",
       "      <th>floors</th>\n",
       "    </tr>\n",
       "  </thead>\n",
       "  <tbody>\n",
       "    <tr>\n",
       "      <th>0</th>\n",
       "      <td>65</td>\n",
       "      <td>35.0</td>\n",
       "      <td>137000.0</td>\n",
       "      <td>1988</td>\n",
       "      <td>1</td>\n",
       "      <td>1</td>\n",
       "      <td>3</td>\n",
       "      <td>3</td>\n",
       "      <td>5</td>\n",
       "    </tr>\n",
       "    <tr>\n",
       "      <th>1</th>\n",
       "      <td>65</td>\n",
       "      <td>34.5</td>\n",
       "      <td>152000.0</td>\n",
       "      <td>1985</td>\n",
       "      <td>1</td>\n",
       "      <td>0</td>\n",
       "      <td>2</td>\n",
       "      <td>2</td>\n",
       "      <td>3</td>\n",
       "    </tr>\n",
       "    <tr>\n",
       "      <th>2</th>\n",
       "      <td>65</td>\n",
       "      <td>39.0</td>\n",
       "      <td>144500.0</td>\n",
       "      <td>1994</td>\n",
       "      <td>1</td>\n",
       "      <td>0</td>\n",
       "      <td>2</td>\n",
       "      <td>1</td>\n",
       "      <td>3</td>\n",
       "    </tr>\n",
       "    <tr>\n",
       "      <th>3</th>\n",
       "      <td>66</td>\n",
       "      <td>27.0</td>\n",
       "      <td>118000.0</td>\n",
       "      <td>1962</td>\n",
       "      <td>1</td>\n",
       "      <td>0</td>\n",
       "      <td>1</td>\n",
       "      <td>3</td>\n",
       "      <td>3</td>\n",
       "    </tr>\n",
       "    <tr>\n",
       "      <th>4</th>\n",
       "      <td>66</td>\n",
       "      <td>27.0</td>\n",
       "      <td>105500.0</td>\n",
       "      <td>1962</td>\n",
       "      <td>1</td>\n",
       "      <td>1</td>\n",
       "      <td>2</td>\n",
       "      <td>2</td>\n",
       "      <td>5</td>\n",
       "    </tr>\n",
       "    <tr>\n",
       "      <th>5</th>\n",
       "      <td>66</td>\n",
       "      <td>28.0</td>\n",
       "      <td>110000.0</td>\n",
       "      <td>1967</td>\n",
       "      <td>1</td>\n",
       "      <td>0</td>\n",
       "      <td>2</td>\n",
       "      <td>1</td>\n",
       "      <td>3</td>\n",
       "    </tr>\n",
       "    <tr>\n",
       "      <th>6</th>\n",
       "      <td>67</td>\n",
       "      <td>38.0</td>\n",
       "      <td>164630.0</td>\n",
       "      <td>2017</td>\n",
       "      <td>1</td>\n",
       "      <td>1</td>\n",
       "      <td>1</td>\n",
       "      <td>2</td>\n",
       "      <td>7</td>\n",
       "    </tr>\n",
       "    <tr>\n",
       "      <th>7</th>\n",
       "      <td>67</td>\n",
       "      <td>38.0</td>\n",
       "      <td>169390.0</td>\n",
       "      <td>2017</td>\n",
       "      <td>1</td>\n",
       "      <td>1</td>\n",
       "      <td>1</td>\n",
       "      <td>3</td>\n",
       "      <td>7</td>\n",
       "    </tr>\n",
       "    <tr>\n",
       "      <th>8</th>\n",
       "      <td>67</td>\n",
       "      <td>31.0</td>\n",
       "      <td>166080.0</td>\n",
       "      <td>2017</td>\n",
       "      <td>1</td>\n",
       "      <td>1</td>\n",
       "      <td>1</td>\n",
       "      <td>6</td>\n",
       "      <td>7</td>\n",
       "    </tr>\n",
       "    <tr>\n",
       "      <th>9</th>\n",
       "      <td>67</td>\n",
       "      <td>31.0</td>\n",
       "      <td>159140.0</td>\n",
       "      <td>2017</td>\n",
       "      <td>1</td>\n",
       "      <td>1</td>\n",
       "      <td>1</td>\n",
       "      <td>5</td>\n",
       "      <td>7</td>\n",
       "    </tr>\n",
       "  </tbody>\n",
       "</table>\n",
       "</div>"
      ],
      "text/plain": [
       "   areacode  size     price  year  rooms  elevator  condition  floor  floors\n",
       "0        65  35.0  137000.0  1988      1         1          3      3       5\n",
       "1        65  34.5  152000.0  1985      1         0          2      2       3\n",
       "2        65  39.0  144500.0  1994      1         0          2      1       3\n",
       "3        66  27.0  118000.0  1962      1         0          1      3       3\n",
       "4        66  27.0  105500.0  1962      1         1          2      2       5\n",
       "5        66  28.0  110000.0  1967      1         0          2      1       3\n",
       "6        67  38.0  164630.0  2017      1         1          1      2       7\n",
       "7        67  38.0  169390.0  2017      1         1          1      3       7\n",
       "8        67  31.0  166080.0  2017      1         1          1      6       7\n",
       "9        67  31.0  159140.0  2017      1         1          1      5       7"
      ]
     },
     "execution_count": 24,
     "metadata": {},
     "output_type": "execute_result"
    }
   ],
   "source": [
    "# massage the data for use with ML algorithms: drop empty data and make strings into numbers\n",
    "areacode_le = LabelEncoder()\n",
    "df.areacode = areacode_le.fit_transform(df.areacode)\n",
    "\n",
    "# Drop entries that have missing year\n",
    "df = df[df['year'].map(len) == 4]\n",
    "df.year = df.year.astype(int)\n",
    "\n",
    "# drop columns that cannot be used with our model\n",
    "df = df[['areacode','size','price','year','rooms','elevator','condition','floor','floors']]\n",
    "df[0:10]"
   ]
  },
  {
   "cell_type": "markdown",
   "metadata": {},
   "source": [
    "We are using supervised learning so let's split the data into training set that will be matched against the test set."
   ]
  },
  {
   "cell_type": "code",
   "execution_count": 25,
   "metadata": {
    "collapsed": false
   },
   "outputs": [
    {
     "data": {
      "text/plain": [
       "(589, 148)"
      ]
     },
     "execution_count": 25,
     "metadata": {},
     "output_type": "execute_result"
    }
   ],
   "source": [
    "# split the data into training and testing sets\n",
    "X_train, X_test, y_train, y_test = train_test_split(df.drop(['price'],axis=1), df.price, test_size=0.2, random_state=20)\n",
    "len(X_train),len(X_test)"
   ]
  },
  {
   "cell_type": "markdown",
   "metadata": {},
   "source": [
    "Try out a couple different estimators and examine error."
   ]
  },
  {
   "cell_type": "code",
   "execution_count": 26,
   "metadata": {
    "collapsed": false
   },
   "outputs": [
    {
     "data": {
      "text/plain": [
       "<matplotlib.text.Text at 0x7ffb1ede3cd0>"
      ]
     },
     "execution_count": 26,
     "metadata": {},
     "output_type": "execute_result"
    },
    {
     "data": {
      "image/png": "[encoded data removed]",
      "text/plain": [
       "<matplotlib.figure.Figure at 0x7ffb25fe8bd0>"
      ]
     },
     "metadata": {},
     "output_type": "display_data"
    }
   ],
   "source": [
    "rs = 1\n",
    "ests = [ linear_model.LinearRegression(), linear_model.Ridge(),\n",
    "        linear_model.Lasso(), linear_model.ElasticNet(),\n",
    "        linear_model.BayesianRidge(), linear_model.OrthogonalMatchingPursuit() ]\n",
    "ests_labels = np.array(['Linear', 'Ridge', 'Lasso', 'ElasticNet', 'BayesRidge', 'OMP'])\n",
    "errvals = np.array([])\n",
    "\n",
    "for e in ests:\n",
    "    e.fit(X_train, y_train)\n",
    "    this_err = metrics.median_absolute_error(y_test, e.predict(X_test))\n",
    "    #print \"got error %0.2f\" % this_err\n",
    "    errvals = np.append(errvals, this_err)\n",
    "\n",
    "pos = np.arange(errvals.shape[0])\n",
    "srt = np.argsort(errvals)\n",
    "plt.figure(figsize=(7,5))\n",
    "plt.bar(pos, errvals[srt], align='center')\n",
    "plt.xticks(pos, ests_labels[srt])\n",
    "plt.xlabel('Estimator')\n",
    "plt.ylabel('Median Absolute Error')"
   ]
  },
  {
   "cell_type": "markdown",
   "metadata": {},
   "source": [
    "Not very good results, so lets give GradientBoostingRegressor a chance."
   ]
  },
  {
   "cell_type": "code",
   "execution_count": 27,
   "metadata": {
    "collapsed": false
   },
   "outputs": [
    {
     "name": "stdout",
     "output_type": "stream",
     "text": [
      "Best estimator error :9387.36807674\n"
     ]
    }
   ],
   "source": [
    "n_est = 3000\n",
    "\n",
    "tuned_parameters = {\n",
    "    \"n_estimators\": [ n_est ],\n",
    "    \"max_depth\" : [ 8 ],\n",
    "    \"learning_rate\": [ 0.001 ],\n",
    "    \"min_samples_split\" : [ 1 ],\n",
    "    \"loss\" : [ 'ls', 'lad' ]\n",
    "}\n",
    "\n",
    "gbr = ensemble.GradientBoostingRegressor()\n",
    "clf = GridSearchCV(gbr, cv=3, param_grid=tuned_parameters,\n",
    "        scoring='neg_median_absolute_error')\n",
    "preds = clf.fit(X_train, y_train)\n",
    "best = clf.best_estimator_\n",
    "print \"Best estimator error :\" + str(metrics.median_absolute_error(y_test, best.predict(X_test)))"
   ]
  },
  {
   "cell_type": "code",
   "execution_count": 9,
   "metadata": {
    "collapsed": false
   },
   "outputs": [
    {
     "data": {
      "text/plain": [
       "<matplotlib.text.Text at 0x7ffb2406cdd0>"
      ]
     },
     "execution_count": 9,
     "metadata": {},
     "output_type": "execute_result"
    },
    {
     "data": {
      "image/png": "[encoded data removed]",
      "text/plain": [
       "<matplotlib.figure.Figure at 0x7ffb242c5f50>"
      ]
     },
     "metadata": {},
     "output_type": "display_data"
    }
   ],
   "source": [
    "feature_importance = clf.best_estimator_.feature_importances_\n",
    "feature_importance = 100.0 * (feature_importance / feature_importance.max())\n",
    "sorted_idx = np.argsort(feature_importance)\n",
    "pos = np.arange(sorted_idx.shape[0]) + .5\n",
    "pvals = feature_importance[sorted_idx]\n",
    "pcols = X_train.columns[sorted_idx]\n",
    "plt.figure(figsize=(8,12))\n",
    "plt.barh(pos, pvals, align='center')\n",
    "plt.yticks(pos, pcols)\n",
    "plt.xlabel('Relative Importance')\n",
    "plt.title('Variable Importance')"
   ]
  },
  {
   "cell_type": "code",
   "execution_count": 10,
   "metadata": {
    "collapsed": false
   },
   "outputs": [
    {
     "data": {
      "image/png": "[encoded data removed]",
      "text/plain": [
       "<matplotlib.figure.Figure at 0x7ffb241ae7d0>"
      ]
     },
     "metadata": {},
     "output_type": "display_data"
    }
   ],
   "source": [
    "y = df.price\n",
    "predicted = cross_val_predict(best, df.drop(['price'],axis=1).as_matrix(), y, cv=10)\n",
    "\n",
    "fig, ax = plt.subplots()\n",
    "ax.scatter(y, predicted)\n",
    "ax.plot([y.min(), y.max()], [y.min(), y.max()], 'k--', lw=4)\n",
    "ax.set_xlabel('Measured')\n",
    "ax.set_ylabel('Predicted')\n",
    "plt.show()"
   ]
  },
  {
   "cell_type": "code",
   "execution_count": 12,
   "metadata": {
    "collapsed": false
   },
   "outputs": [],
   "source": [
    "f = open ('model.dat','wb')\n",
    "model = {'predictor':best,'areacode_encoder':areacode_le}\n",
    "f.write(pickle.dumps(model))\n",
    "f.close()"
   ]
  },
  {
   "cell_type": "code",
   "execution_count": 17,
   "metadata": {
    "collapsed": false
   },
   "outputs": [
    {
     "data": {
      "text/plain": [
       "array([ 150949.79616312])"
      ]
     },
     "execution_count": 17,
     "metadata": {},
     "output_type": "execute_result"
    }
   ],
   "source": [
    "feature = np.array([65,35.0,1988,1,3,3,5])\n",
    "best.predict(feature.reshape(1,-1))"
   ]
  },
  {
   "cell_type": "code",
   "execution_count": 16,
   "metadata": {
    "collapsed": false
   },
   "outputs": [],
   "source": [
    "f = open('model.dat','rb')\n",
    "s = f.read()\n",
    "model = pickle.loads(s)\n",
    "predictor = model['predictor']\n",
    "areacode_le = model['areacode_encoder']"
   ]
  },
  {
   "cell_type": "code",
   "execution_count": 76,
   "metadata": {
    "collapsed": false
   },
   "outputs": [
    {
     "data": {
      "text/plain": [
       "array([u'02650'], dtype=object)"
      ]
     },
     "execution_count": 76,
     "metadata": {},
     "output_type": "execute_result"
    }
   ],
   "source": [
    "\n",
    "areacode_le.inverse_transform([65])"
   ]
  },
  {
   "cell_type": "code",
   "execution_count": 18,
   "metadata": {
    "collapsed": false
   },
   "outputs": [
    {
     "data": {
      "text/plain": [
       "Index([u'areacode', u'size', u'year', u'elevator', u'condition', u'floor',\n",
       "       u'floors'],\n",
       "      dtype='object')"
      ]
     },
     "execution_count": 18,
     "metadata": {},
     "output_type": "execute_result"
    }
   ],
   "source": [
    "X_test.columns"
   ]
  },
  {
   "cell_type": "code",
   "execution_count": 20,
   "metadata": {
    "collapsed": false
   },
   "outputs": [
    {
     "data": {
      "text/plain": [
       "array([65])"
      ]
     },
     "execution_count": 20,
     "metadata": {},
     "output_type": "execute_result"
    }
   ],
   "source": [
    "areacode_le.transform(['02650'])"
   ]
  },
  {
   "cell_type": "code",
   "execution_count": 28,
   "metadata": {
    "collapsed": false
   },
   "outputs": [
    {
     "data": {
      "text/plain": [
       "0      3\n",
       "1      2\n",
       "2      2\n",
       "3      1\n",
       "4      2\n",
       "5      2\n",
       "6      1\n",
       "7      1\n",
       "8      1\n",
       "9      1\n",
       "10     1\n",
       "11     1\n",
       "12     1\n",
       "13     1\n",
       "14     1\n",
       "15     1\n",
       "16     1\n",
       "17     1\n",
       "18     2\n",
       "19     2\n",
       "20     3\n",
       "21     1\n",
       "22     1\n",
       "23     1\n",
       "24     1\n",
       "25     1\n",
       "26     1\n",
       "27     1\n",
       "28     1\n",
       "29     2\n",
       "      ..\n",
       "707    1\n",
       "708    2\n",
       "709    2\n",
       "710    0\n",
       "711    1\n",
       "712    1\n",
       "713    2\n",
       "714    2\n",
       "715    2\n",
       "716    2\n",
       "717    0\n",
       "718    2\n",
       "719    1\n",
       "720    1\n",
       "721    2\n",
       "722    2\n",
       "723    2\n",
       "724    2\n",
       "725    2\n",
       "726    2\n",
       "727    1\n",
       "728    2\n",
       "729    2\n",
       "730    1\n",
       "731    2\n",
       "732    2\n",
       "733    1\n",
       "734    2\n",
       "735    1\n",
       "736    1\n",
       "Name: condition, dtype: int64"
      ]
     },
     "execution_count": 28,
     "metadata": {},
     "output_type": "execute_result"
    }
   ],
   "source": [
    "df.condition"
   ]
  },
  {
   "cell_type": "code",
   "execution_count": null,
   "metadata": {
    "collapsed": true
   },
   "outputs": [],
   "source": []
  }
 ],
 "metadata": {
  "kernelspec": {
   "display_name": "Python 2",
   "language": "python",
   "name": "python2"
  },
  "language_info": {
   "codemirror_mode": {
    "name": "ipython",
    "version": 2
   },
   "file_extension": ".py",
   "mimetype": "text/x-python",
   "name": "python",
   "nbconvert_exporter": "python",
   "pygments_lexer": "ipython2",
   "version": "2.7.6"
  }
 },
 "nbformat": 4,
 "nbformat_minor": 1
}
